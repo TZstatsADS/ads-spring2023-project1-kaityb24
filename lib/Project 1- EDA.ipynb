{
 "cells": [
  {
   "cell_type": "code",
   "execution_count": 1,
   "metadata": {},
   "outputs": [],
   "source": [
    "import pandas as pd\n",
    "import matplotlib.pyplot as plt\n",
    "\n",
    "df = pd.read_csv('philosophy_data.csv')"
   ]
  },
  {
   "cell_type": "code",
   "execution_count": 2,
   "metadata": {},
   "outputs": [
    {
     "data": {
      "text/html": [
       "<div>\n",
       "<style scoped>\n",
       "    .dataframe tbody tr th:only-of-type {\n",
       "        vertical-align: middle;\n",
       "    }\n",
       "\n",
       "    .dataframe tbody tr th {\n",
       "        vertical-align: top;\n",
       "    }\n",
       "\n",
       "    .dataframe thead th {\n",
       "        text-align: right;\n",
       "    }\n",
       "</style>\n",
       "<table border=\"1\" class=\"dataframe\">\n",
       "  <thead>\n",
       "    <tr style=\"text-align: right;\">\n",
       "      <th></th>\n",
       "      <th>title</th>\n",
       "      <th>author</th>\n",
       "      <th>school</th>\n",
       "      <th>sentence_spacy</th>\n",
       "      <th>sentence_str</th>\n",
       "      <th>original_publication_date</th>\n",
       "      <th>corpus_edition_date</th>\n",
       "      <th>sentence_length</th>\n",
       "      <th>sentence_lowered</th>\n",
       "      <th>tokenized_txt</th>\n",
       "      <th>lemmatized_str</th>\n",
       "    </tr>\n",
       "  </thead>\n",
       "  <tbody>\n",
       "    <tr>\n",
       "      <th>0</th>\n",
       "      <td>Plato - Complete Works</td>\n",
       "      <td>Plato</td>\n",
       "      <td>plato</td>\n",
       "      <td>What's new, Socrates, to make you leave your ...</td>\n",
       "      <td>What's new, Socrates, to make you leave your ...</td>\n",
       "      <td>-350</td>\n",
       "      <td>1997</td>\n",
       "      <td>125</td>\n",
       "      <td>what's new, socrates, to make you leave your ...</td>\n",
       "      <td>['what', 'new', 'socrates', 'to', 'make', 'you...</td>\n",
       "      <td>what be new , Socrates , to make -PRON- lea...</td>\n",
       "    </tr>\n",
       "    <tr>\n",
       "      <th>1</th>\n",
       "      <td>Plato - Complete Works</td>\n",
       "      <td>Plato</td>\n",
       "      <td>plato</td>\n",
       "      <td>Surely you are not prosecuting anyone before t...</td>\n",
       "      <td>Surely you are not prosecuting anyone before t...</td>\n",
       "      <td>-350</td>\n",
       "      <td>1997</td>\n",
       "      <td>69</td>\n",
       "      <td>surely you are not prosecuting anyone before t...</td>\n",
       "      <td>['surely', 'you', 'are', 'not', 'prosecuting',...</td>\n",
       "      <td>surely -PRON- be not prosecute anyone before ...</td>\n",
       "    </tr>\n",
       "    <tr>\n",
       "      <th>2</th>\n",
       "      <td>Plato - Complete Works</td>\n",
       "      <td>Plato</td>\n",
       "      <td>plato</td>\n",
       "      <td>The Athenians do not call this a prosecution b...</td>\n",
       "      <td>The Athenians do not call this a prosecution b...</td>\n",
       "      <td>-350</td>\n",
       "      <td>1997</td>\n",
       "      <td>74</td>\n",
       "      <td>the athenians do not call this a prosecution b...</td>\n",
       "      <td>['the', 'athenians', 'do', 'not', 'call', 'thi...</td>\n",
       "      <td>the Athenians do not call this a prosecution ...</td>\n",
       "    </tr>\n",
       "    <tr>\n",
       "      <th>3</th>\n",
       "      <td>Plato - Complete Works</td>\n",
       "      <td>Plato</td>\n",
       "      <td>plato</td>\n",
       "      <td>What is this you say?</td>\n",
       "      <td>What is this you say?</td>\n",
       "      <td>-350</td>\n",
       "      <td>1997</td>\n",
       "      <td>21</td>\n",
       "      <td>what is this you say?</td>\n",
       "      <td>['what', 'is', 'this', 'you', 'say']</td>\n",
       "      <td>what be this -PRON- say ?</td>\n",
       "    </tr>\n",
       "    <tr>\n",
       "      <th>4</th>\n",
       "      <td>Plato - Complete Works</td>\n",
       "      <td>Plato</td>\n",
       "      <td>plato</td>\n",
       "      <td>Someone must have indicted you, for you are no...</td>\n",
       "      <td>Someone must have indicted you, for you are no...</td>\n",
       "      <td>-350</td>\n",
       "      <td>1997</td>\n",
       "      <td>101</td>\n",
       "      <td>someone must have indicted you, for you are no...</td>\n",
       "      <td>['someone', 'must', 'have', 'indicted', 'you',...</td>\n",
       "      <td>someone must have indict -PRON- , for -PRON- ...</td>\n",
       "    </tr>\n",
       "  </tbody>\n",
       "</table>\n",
       "</div>"
      ],
      "text/plain": [
       "                    title author school  \\\n",
       "0  Plato - Complete Works  Plato  plato   \n",
       "1  Plato - Complete Works  Plato  plato   \n",
       "2  Plato - Complete Works  Plato  plato   \n",
       "3  Plato - Complete Works  Plato  plato   \n",
       "4  Plato - Complete Works  Plato  plato   \n",
       "\n",
       "                                      sentence_spacy  \\\n",
       "0   What's new, Socrates, to make you leave your ...   \n",
       "1  Surely you are not prosecuting anyone before t...   \n",
       "2  The Athenians do not call this a prosecution b...   \n",
       "3                              What is this you say?   \n",
       "4  Someone must have indicted you, for you are no...   \n",
       "\n",
       "                                        sentence_str  \\\n",
       "0   What's new, Socrates, to make you leave your ...   \n",
       "1  Surely you are not prosecuting anyone before t...   \n",
       "2  The Athenians do not call this a prosecution b...   \n",
       "3                              What is this you say?   \n",
       "4  Someone must have indicted you, for you are no...   \n",
       "\n",
       "   original_publication_date  corpus_edition_date  sentence_length  \\\n",
       "0                       -350                 1997              125   \n",
       "1                       -350                 1997               69   \n",
       "2                       -350                 1997               74   \n",
       "3                       -350                 1997               21   \n",
       "4                       -350                 1997              101   \n",
       "\n",
       "                                    sentence_lowered  \\\n",
       "0   what's new, socrates, to make you leave your ...   \n",
       "1  surely you are not prosecuting anyone before t...   \n",
       "2  the athenians do not call this a prosecution b...   \n",
       "3                              what is this you say?   \n",
       "4  someone must have indicted you, for you are no...   \n",
       "\n",
       "                                       tokenized_txt  \\\n",
       "0  ['what', 'new', 'socrates', 'to', 'make', 'you...   \n",
       "1  ['surely', 'you', 'are', 'not', 'prosecuting',...   \n",
       "2  ['the', 'athenians', 'do', 'not', 'call', 'thi...   \n",
       "3               ['what', 'is', 'this', 'you', 'say']   \n",
       "4  ['someone', 'must', 'have', 'indicted', 'you',...   \n",
       "\n",
       "                                      lemmatized_str  \n",
       "0     what be new , Socrates , to make -PRON- lea...  \n",
       "1   surely -PRON- be not prosecute anyone before ...  \n",
       "2   the Athenians do not call this a prosecution ...  \n",
       "3                          what be this -PRON- say ?  \n",
       "4   someone must have indict -PRON- , for -PRON- ...  "
      ]
     },
     "execution_count": 2,
     "metadata": {},
     "output_type": "execute_result"
    }
   ],
   "source": [
    "df.head()"
   ]
  },
  {
   "cell_type": "markdown",
   "metadata": {},
   "source": [
    "# Looking at most prolific schools by year"
   ]
  },
  {
   "cell_type": "code",
   "execution_count": 3,
   "metadata": {},
   "outputs": [],
   "source": [
    "years = df['original_publication_date'].unique()\n",
    "year_top_school_map  = {}\n",
    "for y in years:\n",
    "    current_year = df[df['original_publication_date'] == y]\n",
    "    top_school = current_year.groupby('school').count()['sentence_spacy'].sort_values(ascending = False).head(1).index[0]\n",
    "    year_top_school_map[y] = top_school"
   ]
  },
  {
   "cell_type": "code",
   "execution_count": 4,
   "metadata": {},
   "outputs": [
    {
     "data": {
      "text/plain": [
       "{-350: 'plato',\n",
       " -320: 'aristotle',\n",
       " 125: 'stoicism',\n",
       " 170: 'stoicism',\n",
       " 1637: 'rationalism',\n",
       " 1641: 'rationalism',\n",
       " 1674: 'rationalism',\n",
       " 1677: 'rationalism',\n",
       " 1689: 'empiricism',\n",
       " 1710: 'rationalism',\n",
       " 1713: 'empiricism',\n",
       " 1739: 'empiricism',\n",
       " 1776: 'capitalism',\n",
       " 1779: 'empiricism',\n",
       " 1781: 'german_idealism',\n",
       " 1788: 'german_idealism',\n",
       " 1790: 'german_idealism',\n",
       " 1792: 'feminism',\n",
       " 1798: 'german_idealism',\n",
       " 1807: 'german_idealism',\n",
       " 1817: 'german_idealism',\n",
       " 1820: 'german_idealism',\n",
       " 1848: 'communism',\n",
       " 1862: 'communism',\n",
       " 1883: 'communism',\n",
       " 1886: 'nietzsche',\n",
       " 1887: 'nietzsche',\n",
       " 1888: 'nietzsche',\n",
       " 1907: 'phenomenology',\n",
       " 1910: 'analytic',\n",
       " 1912: 'analytic',\n",
       " 1921: 'analytic',\n",
       " 1927: 'phenomenology',\n",
       " 1936: 'phenomenology',\n",
       " 1945: 'phenomenology',\n",
       " 1949: 'feminism',\n",
       " 1950: 'analytic',\n",
       " 1953: 'analytic',\n",
       " 1959: 'analytic',\n",
       " 1961: 'continental',\n",
       " 1963: 'continental',\n",
       " 1966: 'continental',\n",
       " 1967: 'continental',\n",
       " 1968: 'continental',\n",
       " 1972: 'continental',\n",
       " 1975: 'analytic',\n",
       " 1981: 'feminism',\n",
       " 1985: 'analytic'}"
      ]
     },
     "execution_count": 4,
     "metadata": {},
     "output_type": "execute_result"
    }
   ],
   "source": [
    "year_top_school_map = dict(sorted(year_top_school_map.items()))\n",
    "year_top_school_map"
   ]
  },
  {
   "cell_type": "markdown",
   "metadata": {},
   "source": [
    "# Looking at analytic school's work over years"
   ]
  },
  {
   "cell_type": "code",
   "execution_count": 5,
   "metadata": {},
   "outputs": [
    {
     "data": {
      "text/html": [
       "<div>\n",
       "<style scoped>\n",
       "    .dataframe tbody tr th:only-of-type {\n",
       "        vertical-align: middle;\n",
       "    }\n",
       "\n",
       "    .dataframe tbody tr th {\n",
       "        vertical-align: top;\n",
       "    }\n",
       "\n",
       "    .dataframe thead th {\n",
       "        text-align: right;\n",
       "    }\n",
       "</style>\n",
       "<table border=\"1\" class=\"dataframe\">\n",
       "  <thead>\n",
       "    <tr style=\"text-align: right;\">\n",
       "      <th></th>\n",
       "      <th>title</th>\n",
       "      <th>author</th>\n",
       "      <th>school</th>\n",
       "      <th>sentence_spacy</th>\n",
       "      <th>sentence_str</th>\n",
       "      <th>original_publication_date</th>\n",
       "      <th>corpus_edition_date</th>\n",
       "      <th>sentence_length</th>\n",
       "      <th>sentence_lowered</th>\n",
       "      <th>tokenized_txt</th>\n",
       "      <th>lemmatized_str</th>\n",
       "    </tr>\n",
       "  </thead>\n",
       "  <tbody>\n",
       "    <tr>\n",
       "      <th>130025</th>\n",
       "      <td>The Analysis Of Mind</td>\n",
       "      <td>Russell</td>\n",
       "      <td>analytic</td>\n",
       "      <td>This book has grown out of an attempt to harmo...</td>\n",
       "      <td>This book has grown out of an attempt to harmo...</td>\n",
       "      <td>1921</td>\n",
       "      <td>2008</td>\n",
       "      <td>217</td>\n",
       "      <td>this book has grown out of an attempt to harmo...</td>\n",
       "      <td>['this', 'book', 'has', 'grown', 'out', 'of', ...</td>\n",
       "      <td>this book have grow out of an attempt to harm...</td>\n",
       "    </tr>\n",
       "    <tr>\n",
       "      <th>130026</th>\n",
       "      <td>The Analysis Of Mind</td>\n",
       "      <td>Russell</td>\n",
       "      <td>analytic</td>\n",
       "      <td>On the one hand, many psychologists, especiall...</td>\n",
       "      <td>On the one hand, many psychologists, especiall...</td>\n",
       "      <td>1921</td>\n",
       "      <td>2008</td>\n",
       "      <td>186</td>\n",
       "      <td>on the one hand, many psychologists, especiall...</td>\n",
       "      <td>['on', 'the', 'one', 'hand', 'many', 'psycholo...</td>\n",
       "      <td>on the one hand , many psychologist , especia...</td>\n",
       "    </tr>\n",
       "    <tr>\n",
       "      <th>130027</th>\n",
       "      <td>The Analysis Of Mind</td>\n",
       "      <td>Russell</td>\n",
       "      <td>analytic</td>\n",
       "      <td>They make psychology increasingly dependent on...</td>\n",
       "      <td>They make psychology increasingly dependent on...</td>\n",
       "      <td>1921</td>\n",
       "      <td>2008</td>\n",
       "      <td>167</td>\n",
       "      <td>they make psychology increasingly dependent on...</td>\n",
       "      <td>['they', 'make', 'psychology', 'increasingly',...</td>\n",
       "      <td>-PRON- make psychology increasingly dependent...</td>\n",
       "    </tr>\n",
       "    <tr>\n",
       "      <th>130028</th>\n",
       "      <td>The Analysis Of Mind</td>\n",
       "      <td>Russell</td>\n",
       "      <td>analytic</td>\n",
       "      <td>Meanwhile the physicists, especially Einstein ...</td>\n",
       "      <td>Meanwhile the physicists, especially Einstein ...</td>\n",
       "      <td>1921</td>\n",
       "      <td>2008</td>\n",
       "      <td>142</td>\n",
       "      <td>meanwhile the physicists, especially einstein ...</td>\n",
       "      <td>['meanwhile', 'the', 'physicists', 'especially...</td>\n",
       "      <td>meanwhile the physicist , especially Einstein...</td>\n",
       "    </tr>\n",
       "    <tr>\n",
       "      <th>130029</th>\n",
       "      <td>The Analysis Of Mind</td>\n",
       "      <td>Russell</td>\n",
       "      <td>analytic</td>\n",
       "      <td>Their world consists of events, from which mat...</td>\n",
       "      <td>Their world consists of events, from which mat...</td>\n",
       "      <td>1921</td>\n",
       "      <td>2008</td>\n",
       "      <td>87</td>\n",
       "      <td>their world consists of events, from which mat...</td>\n",
       "      <td>['their', 'world', 'consists', 'of', 'events',...</td>\n",
       "      <td>-PRON- world consist of event , from which ma...</td>\n",
       "    </tr>\n",
       "    <tr>\n",
       "      <th>...</th>\n",
       "      <td>...</td>\n",
       "      <td>...</td>\n",
       "      <td>...</td>\n",
       "      <td>...</td>\n",
       "      <td>...</td>\n",
       "      <td>...</td>\n",
       "      <td>...</td>\n",
       "      <td>...</td>\n",
       "      <td>...</td>\n",
       "      <td>...</td>\n",
       "      <td>...</td>\n",
       "    </tr>\n",
       "    <tr>\n",
       "      <th>185445</th>\n",
       "      <td>On Certainty</td>\n",
       "      <td>Wittgenstein</td>\n",
       "      <td>analytic</td>\n",
       "      <td>But even if in such cases I can't be mistaken,...</td>\n",
       "      <td>But even if in such cases I can't be mistaken,...</td>\n",
       "      <td>1950</td>\n",
       "      <td>1969</td>\n",
       "      <td>83</td>\n",
       "      <td>but even if in such cases i can't be mistaken,...</td>\n",
       "      <td>['but', 'even', 'if', 'in', 'such', 'cases', '...</td>\n",
       "      <td>but even if in such case -PRON- can not be mi...</td>\n",
       "    </tr>\n",
       "    <tr>\n",
       "      <th>185446</th>\n",
       "      <td>On Certainty</td>\n",
       "      <td>Wittgenstein</td>\n",
       "      <td>analytic</td>\n",
       "      <td>If I am and if the drug has taken away my cons...</td>\n",
       "      <td>If I am and if the drug has taken away my cons...</td>\n",
       "      <td>1950</td>\n",
       "      <td>1969</td>\n",
       "      <td>103</td>\n",
       "      <td>if i am and if the drug has taken away my cons...</td>\n",
       "      <td>['if', 'am', 'and', 'if', 'the', 'drug', 'has'...</td>\n",
       "      <td>if -PRON- be and if the drug have take away -...</td>\n",
       "    </tr>\n",
       "    <tr>\n",
       "      <th>185447</th>\n",
       "      <td>On Certainty</td>\n",
       "      <td>Wittgenstein</td>\n",
       "      <td>analytic</td>\n",
       "      <td>cannot seriously suppose that I am at this mom...</td>\n",
       "      <td>cannot seriously suppose that I am at this mom...</td>\n",
       "      <td>1950</td>\n",
       "      <td>1969</td>\n",
       "      <td>59</td>\n",
       "      <td>cannot seriously suppose that i am at this mom...</td>\n",
       "      <td>['cannot', 'seriously', 'suppose', 'that', 'am...</td>\n",
       "      <td>can not seriously suppose that -PRON- be at t...</td>\n",
       "    </tr>\n",
       "    <tr>\n",
       "      <th>185448</th>\n",
       "      <td>On Certainty</td>\n",
       "      <td>Wittgenstein</td>\n",
       "      <td>analytic</td>\n",
       "      <td>Someone who, dreaming, says I am dreaming even...</td>\n",
       "      <td>Someone who, dreaming, says I am dreaming even...</td>\n",
       "      <td>1950</td>\n",
       "      <td>1969</td>\n",
       "      <td>161</td>\n",
       "      <td>someone who, dreaming, says i am dreaming even...</td>\n",
       "      <td>['someone', 'who', 'dreaming', 'says', 'am', '...</td>\n",
       "      <td>someone who , dream , say -PRON- be dream eve...</td>\n",
       "    </tr>\n",
       "    <tr>\n",
       "      <th>185449</th>\n",
       "      <td>On Certainty</td>\n",
       "      <td>Wittgenstein</td>\n",
       "      <td>analytic</td>\n",
       "      <td>Even if his dream were actually connected with...</td>\n",
       "      <td>Even if his dream were actually connected with...</td>\n",
       "      <td>1950</td>\n",
       "      <td>1969</td>\n",
       "      <td>69</td>\n",
       "      <td>even if his dream were actually connected with...</td>\n",
       "      <td>['even', 'if', 'his', 'dream', 'were', 'actual...</td>\n",
       "      <td>even if -PRON- dream be actually connect with...</td>\n",
       "    </tr>\n",
       "  </tbody>\n",
       "</table>\n",
       "<p>55425 rows × 11 columns</p>\n",
       "</div>"
      ],
      "text/plain": [
       "                       title        author    school  \\\n",
       "130025  The Analysis Of Mind       Russell  analytic   \n",
       "130026  The Analysis Of Mind       Russell  analytic   \n",
       "130027  The Analysis Of Mind       Russell  analytic   \n",
       "130028  The Analysis Of Mind       Russell  analytic   \n",
       "130029  The Analysis Of Mind       Russell  analytic   \n",
       "...                      ...           ...       ...   \n",
       "185445          On Certainty  Wittgenstein  analytic   \n",
       "185446          On Certainty  Wittgenstein  analytic   \n",
       "185447          On Certainty  Wittgenstein  analytic   \n",
       "185448          On Certainty  Wittgenstein  analytic   \n",
       "185449          On Certainty  Wittgenstein  analytic   \n",
       "\n",
       "                                           sentence_spacy  \\\n",
       "130025  This book has grown out of an attempt to harmo...   \n",
       "130026  On the one hand, many psychologists, especiall...   \n",
       "130027  They make psychology increasingly dependent on...   \n",
       "130028  Meanwhile the physicists, especially Einstein ...   \n",
       "130029  Their world consists of events, from which mat...   \n",
       "...                                                   ...   \n",
       "185445  But even if in such cases I can't be mistaken,...   \n",
       "185446  If I am and if the drug has taken away my cons...   \n",
       "185447  cannot seriously suppose that I am at this mom...   \n",
       "185448  Someone who, dreaming, says I am dreaming even...   \n",
       "185449  Even if his dream were actually connected with...   \n",
       "\n",
       "                                             sentence_str  \\\n",
       "130025  This book has grown out of an attempt to harmo...   \n",
       "130026  On the one hand, many psychologists, especiall...   \n",
       "130027  They make psychology increasingly dependent on...   \n",
       "130028  Meanwhile the physicists, especially Einstein ...   \n",
       "130029  Their world consists of events, from which mat...   \n",
       "...                                                   ...   \n",
       "185445  But even if in such cases I can't be mistaken,...   \n",
       "185446  If I am and if the drug has taken away my cons...   \n",
       "185447  cannot seriously suppose that I am at this mom...   \n",
       "185448  Someone who, dreaming, says I am dreaming even...   \n",
       "185449  Even if his dream were actually connected with...   \n",
       "\n",
       "        original_publication_date  corpus_edition_date  sentence_length  \\\n",
       "130025                       1921                 2008              217   \n",
       "130026                       1921                 2008              186   \n",
       "130027                       1921                 2008              167   \n",
       "130028                       1921                 2008              142   \n",
       "130029                       1921                 2008               87   \n",
       "...                           ...                  ...              ...   \n",
       "185445                       1950                 1969               83   \n",
       "185446                       1950                 1969              103   \n",
       "185447                       1950                 1969               59   \n",
       "185448                       1950                 1969              161   \n",
       "185449                       1950                 1969               69   \n",
       "\n",
       "                                         sentence_lowered  \\\n",
       "130025  this book has grown out of an attempt to harmo...   \n",
       "130026  on the one hand, many psychologists, especiall...   \n",
       "130027  they make psychology increasingly dependent on...   \n",
       "130028  meanwhile the physicists, especially einstein ...   \n",
       "130029  their world consists of events, from which mat...   \n",
       "...                                                   ...   \n",
       "185445  but even if in such cases i can't be mistaken,...   \n",
       "185446  if i am and if the drug has taken away my cons...   \n",
       "185447  cannot seriously suppose that i am at this mom...   \n",
       "185448  someone who, dreaming, says i am dreaming even...   \n",
       "185449  even if his dream were actually connected with...   \n",
       "\n",
       "                                            tokenized_txt  \\\n",
       "130025  ['this', 'book', 'has', 'grown', 'out', 'of', ...   \n",
       "130026  ['on', 'the', 'one', 'hand', 'many', 'psycholo...   \n",
       "130027  ['they', 'make', 'psychology', 'increasingly',...   \n",
       "130028  ['meanwhile', 'the', 'physicists', 'especially...   \n",
       "130029  ['their', 'world', 'consists', 'of', 'events',...   \n",
       "...                                                   ...   \n",
       "185445  ['but', 'even', 'if', 'in', 'such', 'cases', '...   \n",
       "185446  ['if', 'am', 'and', 'if', 'the', 'drug', 'has'...   \n",
       "185447  ['cannot', 'seriously', 'suppose', 'that', 'am...   \n",
       "185448  ['someone', 'who', 'dreaming', 'says', 'am', '...   \n",
       "185449  ['even', 'if', 'his', 'dream', 'were', 'actual...   \n",
       "\n",
       "                                           lemmatized_str  \n",
       "130025   this book have grow out of an attempt to harm...  \n",
       "130026   on the one hand , many psychologist , especia...  \n",
       "130027   -PRON- make psychology increasingly dependent...  \n",
       "130028   meanwhile the physicist , especially Einstein...  \n",
       "130029   -PRON- world consist of event , from which ma...  \n",
       "...                                                   ...  \n",
       "185445   but even if in such case -PRON- can not be mi...  \n",
       "185446   if -PRON- be and if the drug have take away -...  \n",
       "185447   can not seriously suppose that -PRON- be at t...  \n",
       "185448   someone who , dream , say -PRON- be dream eve...  \n",
       "185449   even if -PRON- dream be actually connect with...  \n",
       "\n",
       "[55425 rows x 11 columns]"
      ]
     },
     "execution_count": 5,
     "metadata": {},
     "output_type": "execute_result"
    }
   ],
   "source": [
    "analytic = df[df['school'] == 'analytic']\n",
    "analytic"
   ]
  },
  {
   "cell_type": "code",
   "execution_count": 6,
   "metadata": {},
   "outputs": [
    {
     "data": {
      "text/plain": [
       "<BarContainer object of 9 artists>"
      ]
     },
     "execution_count": 6,
     "metadata": {},
     "output_type": "execute_result"
    },
    {
     "data": {
      "image/png": "[encoded data removed]",
      "text/plain": [
       "<Figure size 432x288 with 1 Axes>"
      ]
     },
     "metadata": {
      "needs_background": "light"
     },
     "output_type": "display_data"
    }
   ],
   "source": [
    "x = []\n",
    "y = []\n",
    "for year in analytic['original_publication_date'].unique():\n",
    "    x.append(year)\n",
    "    y.append(analytic[analytic['original_publication_date'] == year].count()['title'])\n",
    "\n",
    "plt.bar(x, y)"
   ]
  },
  {
   "cell_type": "markdown",
   "metadata": {},
   "source": [
    "# Word Frequency"
   ]
  },
  {
   "cell_type": "markdown",
   "metadata": {},
   "source": [
    "Helpful Source: https://www.kirenz.com/post/2021-12-11-text-mining-and-sentiment-analysis-with-nltk-and-pandas-in-python/text-mining-and-sentiment-analysis-with-nltk-and-pandas-in-python/"
   ]
  },
  {
   "cell_type": "code",
   "execution_count": 7,
   "metadata": {},
   "outputs": [],
   "source": [
    "import nltk\n",
    "from nltk import FreqDist\n",
    "from nltk.corpus import stopwords\n",
    "from nltk.probability import FreqDist"
   ]
  },
  {
   "cell_type": "code",
   "execution_count": 8,
   "metadata": {},
   "outputs": [],
   "source": [
    "analytic1 = analytic[analytic['original_publication_date'] < 1930]\n",
    "analytic2 = analytic[analytic['original_publication_date'] > 1930]"
   ]
  },
  {
   "cell_type": "code",
   "execution_count": 9,
   "metadata": {},
   "outputs": [
    {
     "name": "stderr",
     "output_type": "stream",
     "text": [
      "[nltk_data] Downloading package stopwords to\n",
      "[nltk_data]     /Users/kaitlynbrown/nltk_data...\n",
      "[nltk_data]   Package stopwords is already up-to-date!\n",
      "<ipython-input-9-24155748d45a>:4: SettingWithCopyWarning: \n",
      "A value is trying to be set on a copy of a slice from a DataFrame.\n",
      "Try using .loc[row_indexer,col_indexer] = value instead\n",
      "\n",
      "See the caveats in the documentation: https://pandas.pydata.org/pandas-docs/stable/user_guide/indexing.html#returning-a-view-versus-a-copy\n",
      "  analytic1['filtered_txt'] = analytic1['tokenized_txt'].apply(lambda x:[item for item in x.replace(\"'\",\"\").replace('[',\"\").replace(']',\"\").replace(\" \",\"\").split(',') if item not in stopwords])\n"
     ]
    }
   ],
   "source": [
    "nltk.download('stopwords')\n",
    "stopwords = nltk.corpus.stopwords.words(\"english\")\n",
    "\n",
    "analytic1['filtered_txt'] = analytic1['tokenized_txt'].apply(lambda x:[item for item in x.replace(\"'\",\"\").replace('[',\"\").replace(']',\"\").replace(\" \",\"\").split(',') if item not in stopwords])"
   ]
  },
  {
   "cell_type": "code",
   "execution_count": 10,
   "metadata": {},
   "outputs": [],
   "source": [
    "a1_words = analytic1['filtered_txt'].sum()"
   ]
  },
  {
   "cell_type": "code",
   "execution_count": 11,
   "metadata": {},
   "outputs": [
    {
     "name": "stderr",
     "output_type": "stream",
     "text": [
      "[nltk_data] Downloading package punkt to\n",
      "[nltk_data]     /Users/kaitlynbrown/nltk_data...\n",
      "[nltk_data]   Package punkt is already up-to-date!\n"
     ]
    },
    {
     "data": {
      "text/plain": [
       "[('one', 1345),\n",
       " ('true', 1159),\n",
       " ('may', 1148),\n",
       " ('sense', 997),\n",
       " ('would', 834),\n",
       " ('say', 733),\n",
       " ('must', 714),\n",
       " ('fact', 705),\n",
       " ('think', 681),\n",
       " ('proposition', 666),\n",
       " ('different', 657),\n",
       " ('two', 636),\n",
       " ('certain', 601),\n",
       " ('know', 570),\n",
       " ('thing', 568),\n",
       " ('us', 566),\n",
       " ('things', 561),\n",
       " ('case', 541),\n",
       " ('knowledge', 529),\n",
       " ('question', 506)]"
      ]
     },
     "execution_count": 11,
     "metadata": {},
     "output_type": "execute_result"
    }
   ],
   "source": [
    "nltk.download('punkt')\n",
    "a1_fdist = FreqDist(a1_words)\n",
    "a1_fdist.most_common(20)"
   ]
  },
  {
   "cell_type": "code",
   "execution_count": 12,
   "metadata": {},
   "outputs": [
    {
     "name": "stderr",
     "output_type": "stream",
     "text": [
      "<ipython-input-12-4342f96a479c>:1: SettingWithCopyWarning: \n",
      "A value is trying to be set on a copy of a slice from a DataFrame.\n",
      "Try using .loc[row_indexer,col_indexer] = value instead\n",
      "\n",
      "See the caveats in the documentation: https://pandas.pydata.org/pandas-docs/stable/user_guide/indexing.html#returning-a-view-versus-a-copy\n",
      "  analytic2['filtered_txt'] = analytic2['tokenized_txt'].apply(lambda x:[item for item in x.replace(\"'\",\"\").replace('[',\"\").replace(']',\"\").replace(\" \",\"\").split(',') if item not in stopwords])\n"
     ]
    },
    {
     "data": {
      "text/plain": [
       "[('one', 4806),\n",
       " ('would', 3703),\n",
       " ('say', 2793),\n",
       " ('may', 2634),\n",
       " ('might', 1981),\n",
       " ('theory', 1958),\n",
       " ('true', 1896),\n",
       " ('case', 1840),\n",
       " ('language', 1740),\n",
       " ('even', 1717),\n",
       " ('also', 1639),\n",
       " ('world', 1554),\n",
       " ('way', 1545),\n",
       " ('sense', 1521),\n",
       " ('two', 1499),\n",
       " ('know', 1373),\n",
       " ('truth', 1354),\n",
       " ('like', 1337),\n",
       " ('time', 1327),\n",
       " ('us', 1302)]"
      ]
     },
     "execution_count": 12,
     "metadata": {},
     "output_type": "execute_result"
    }
   ],
   "source": [
    "analytic2['filtered_txt'] = analytic2['tokenized_txt'].apply(lambda x:[item for item in x.replace(\"'\",\"\").replace('[',\"\").replace(']',\"\").replace(\" \",\"\").split(',') if item not in stopwords])\n",
    "a2_words = analytic2['filtered_txt'].sum()\n",
    "a2_fdist = FreqDist(a2_words)\n",
    "a2_fdist.most_common(20)"
   ]
  },
  {
   "cell_type": "markdown",
   "metadata": {},
   "source": [
    "Interesting words: fact, theory, language"
   ]
  },
  {
   "cell_type": "code",
   "execution_count": 13,
   "metadata": {},
   "outputs": [
    {
     "data": {
      "text/plain": [
       "0.004073281613581351"
      ]
     },
     "execution_count": 13,
     "metadata": {},
     "output_type": "execute_result"
    }
   ],
   "source": [
    "a2_fdist['language']/len(a2_words)"
   ]
  },
  {
   "cell_type": "code",
   "execution_count": 14,
   "metadata": {},
   "outputs": [
    {
     "data": {
      "text/plain": [
       "0.0009619559202853518"
      ]
     },
     "execution_count": 14,
     "metadata": {},
     "output_type": "execute_result"
    }
   ],
   "source": [
    "a1_fdist['language']/len(a1_words)"
   ]
  },
  {
   "cell_type": "markdown",
   "metadata": {},
   "source": [
    "# Sentiment Analysis"
   ]
  },
  {
   "cell_type": "code",
   "execution_count": 15,
   "metadata": {},
   "outputs": [
    {
     "name": "stderr",
     "output_type": "stream",
     "text": [
      "[nltk_data] Downloading package vader_lexicon to\n",
      "[nltk_data]     /Users/kaitlynbrown/nltk_data...\n",
      "[nltk_data]   Package vader_lexicon is already up-to-date!\n"
     ]
    }
   ],
   "source": [
    "from nltk.sentiment import SentimentIntensityAnalyzer\n",
    "nltk.download('vader_lexicon')\n",
    "\n",
    "sia = SentimentIntensityAnalyzer()"
   ]
  },
  {
   "cell_type": "code",
   "execution_count": 16,
   "metadata": {},
   "outputs": [],
   "source": [
    "a1_neg = 0\n",
    "a1_pos = 0\n",
    "a1_neu = 0\n",
    "a1_compound = 0\n",
    "\n",
    "for i in analytic1['sentence_str']:\n",
    "    pol_score = sia.polarity_scores(i)\n",
    "    a1_neg += pol_score['neg']\n",
    "    a1_neu += pol_score['neu']\n",
    "    a1_pos += pol_score['pos']\n",
    "    a1_compound += pol_score['compound']"
   ]
  },
  {
   "cell_type": "code",
   "execution_count": 17,
   "metadata": {},
   "outputs": [
    {
     "name": "stdout",
     "output_type": "stream",
     "text": [
      "0.03879202250577731\n",
      "0.0686957701195621\n",
      "0.8925125087913152\n",
      "0.10088004621722056\n"
     ]
    }
   ],
   "source": [
    "print(a1_neg / analytic1.shape[0])\n",
    "print(a1_pos / analytic1.shape[0])\n",
    "print(a1_neu / analytic1.shape[0])\n",
    "print(a1_compound / analytic1.shape[0])"
   ]
  },
  {
   "cell_type": "code",
   "execution_count": 18,
   "metadata": {},
   "outputs": [
    {
     "name": "stdout",
     "output_type": "stream",
     "text": [
      "0.043073033954961086\n",
      "0.06615051020408147\n",
      "0.8907759940183024\n",
      "0.060835047941591155\n"
     ]
    }
   ],
   "source": [
    "a2_neg = 0\n",
    "a2_pos = 0\n",
    "a2_neu = 0\n",
    "a2_compound = 0\n",
    "\n",
    "for i in analytic2['sentence_str']:\n",
    "    pol_score = sia.polarity_scores(i)\n",
    "    a2_neg += pol_score['neg']\n",
    "    a2_neu += pol_score['neu']\n",
    "    a2_pos += pol_score['pos']\n",
    "    a2_compound += pol_score['compound']\n",
    "    \n",
    "print(a2_neg / analytic2.shape[0])\n",
    "print(a2_pos / analytic2.shape[0])\n",
    "print(a2_neu / analytic2.shape[0])\n",
    "print(a2_compound / analytic2.shape[0])"
   ]
  },
  {
   "cell_type": "markdown",
   "metadata": {},
   "source": [
    "less compound, more negative"
   ]
  },
  {
   "cell_type": "code",
   "execution_count": 19,
   "metadata": {},
   "outputs": [
    {
     "data": {
      "text/html": [
       "<div>\n",
       "<style scoped>\n",
       "    .dataframe tbody tr th:only-of-type {\n",
       "        vertical-align: middle;\n",
       "    }\n",
       "\n",
       "    .dataframe tbody tr th {\n",
       "        vertical-align: top;\n",
       "    }\n",
       "\n",
       "    .dataframe thead th {\n",
       "        text-align: right;\n",
       "    }\n",
       "</style>\n",
       "<table border=\"1\" class=\"dataframe\">\n",
       "  <thead>\n",
       "    <tr style=\"text-align: right;\">\n",
       "      <th></th>\n",
       "      <th>title</th>\n",
       "      <th>author</th>\n",
       "      <th>school</th>\n",
       "      <th>sentence_spacy</th>\n",
       "      <th>sentence_str</th>\n",
       "      <th>original_publication_date</th>\n",
       "      <th>corpus_edition_date</th>\n",
       "      <th>sentence_length</th>\n",
       "      <th>sentence_lowered</th>\n",
       "      <th>tokenized_txt</th>\n",
       "      <th>lemmatized_str</th>\n",
       "    </tr>\n",
       "  </thead>\n",
       "  <tbody>\n",
       "    <tr>\n",
       "      <th>219229</th>\n",
       "      <td>The Phenomenology Of Perception</td>\n",
       "      <td>Merleau-Ponty</td>\n",
       "      <td>phenomenology</td>\n",
       "      <td>What is phenomenology?</td>\n",
       "      <td>What is phenomenology?</td>\n",
       "      <td>1945</td>\n",
       "      <td>2002</td>\n",
       "      <td>23</td>\n",
       "      <td>what is phenomenology?</td>\n",
       "      <td>['what', 'is', 'phenomenology']</td>\n",
       "      <td>what be phenomenology ?</td>\n",
       "    </tr>\n",
       "    <tr>\n",
       "      <th>219230</th>\n",
       "      <td>The Phenomenology Of Perception</td>\n",
       "      <td>Merleau-Ponty</td>\n",
       "      <td>phenomenology</td>\n",
       "      <td>It may seem strange that this question has sti...</td>\n",
       "      <td>It may seem strange that this question has sti...</td>\n",
       "      <td>1945</td>\n",
       "      <td>2002</td>\n",
       "      <td>109</td>\n",
       "      <td>it may seem strange that this question has sti...</td>\n",
       "      <td>['it', 'may', 'seem', 'strange', 'that', 'this...</td>\n",
       "      <td>-PRON- may seem strange that this question ha...</td>\n",
       "    </tr>\n",
       "    <tr>\n",
       "      <th>219231</th>\n",
       "      <td>The Phenomenology Of Perception</td>\n",
       "      <td>Merleau-Ponty</td>\n",
       "      <td>phenomenology</td>\n",
       "      <td>The fact remains that it has by no means been ...</td>\n",
       "      <td>The fact remains that it has by no means been ...</td>\n",
       "      <td>1945</td>\n",
       "      <td>2002</td>\n",
       "      <td>55</td>\n",
       "      <td>the fact remains that it has by no means been ...</td>\n",
       "      <td>['the', 'fact', 'remains', 'that', 'it', 'has'...</td>\n",
       "      <td>the fact remain that -PRON- have by no mean b...</td>\n",
       "    </tr>\n",
       "    <tr>\n",
       "      <th>219232</th>\n",
       "      <td>The Phenomenology Of Perception</td>\n",
       "      <td>Merleau-Ponty</td>\n",
       "      <td>phenomenology</td>\n",
       "      <td>Phenomenology is the study of essences; and ac...</td>\n",
       "      <td>Phenomenology is the study of essences; and ac...</td>\n",
       "      <td>1945</td>\n",
       "      <td>2002</td>\n",
       "      <td>189</td>\n",
       "      <td>phenomenology is the study of essences; and ac...</td>\n",
       "      <td>['phenomenology', 'is', 'the', 'study', 'of', ...</td>\n",
       "      <td>phenomenology be the study of essence ; and a...</td>\n",
       "    </tr>\n",
       "    <tr>\n",
       "      <th>219233</th>\n",
       "      <td>The Phenomenology Of Perception</td>\n",
       "      <td>Merleau-Ponty</td>\n",
       "      <td>phenomenology</td>\n",
       "      <td>But phenomenology is also a philosophy which p...</td>\n",
       "      <td>But phenomenology is also a philosophy which p...</td>\n",
       "      <td>1945</td>\n",
       "      <td>2002</td>\n",
       "      <td>212</td>\n",
       "      <td>but phenomenology is also a philosophy which p...</td>\n",
       "      <td>['but', 'phenomenology', 'is', 'also', 'philos...</td>\n",
       "      <td>but phenomenology be also a philosophy which ...</td>\n",
       "    </tr>\n",
       "    <tr>\n",
       "      <th>...</th>\n",
       "      <td>...</td>\n",
       "      <td>...</td>\n",
       "      <td>...</td>\n",
       "      <td>...</td>\n",
       "      <td>...</td>\n",
       "      <td>...</td>\n",
       "      <td>...</td>\n",
       "      <td>...</td>\n",
       "      <td>...</td>\n",
       "      <td>...</td>\n",
       "      <td>...</td>\n",
       "    </tr>\n",
       "    <tr>\n",
       "      <th>247797</th>\n",
       "      <td>Off The Beaten Track</td>\n",
       "      <td>Heidegger</td>\n",
       "      <td>phenomenology</td>\n",
       "      <td>The when being itself reaches its extremity an...</td>\n",
       "      <td>The when being itself reaches its extremity an...</td>\n",
       "      <td>1950</td>\n",
       "      <td>2001</td>\n",
       "      <td>109</td>\n",
       "      <td>the when being itself reaches its extremity an...</td>\n",
       "      <td>['the', 'when', 'being', 'itself', 'reaches', ...</td>\n",
       "      <td>the when be -PRON- reach -PRON- extremity and...</td>\n",
       "    </tr>\n",
       "    <tr>\n",
       "      <th>247798</th>\n",
       "      <td>Off The Beaten Track</td>\n",
       "      <td>Heidegger</td>\n",
       "      <td>phenomenology</td>\n",
       "      <td>But what if being, in its essence, needs to us...</td>\n",
       "      <td>But what if being, in its essence, needs to us...</td>\n",
       "      <td>1950</td>\n",
       "      <td>2001</td>\n",
       "      <td>74</td>\n",
       "      <td>but what if being, in its essence, needs to us...</td>\n",
       "      <td>['but', 'what', 'if', 'being', 'in', 'its', 'e...</td>\n",
       "      <td>but what if be , in -PRON- essence , need to ...</td>\n",
       "    </tr>\n",
       "    <tr>\n",
       "      <th>247799</th>\n",
       "      <td>Off The Beaten Track</td>\n",
       "      <td>Heidegger</td>\n",
       "      <td>phenomenology</td>\n",
       "      <td>What if the essence of man rests in thinking t...</td>\n",
       "      <td>What if the essence of man rests in thinking t...</td>\n",
       "      <td>1950</td>\n",
       "      <td>2001</td>\n",
       "      <td>64</td>\n",
       "      <td>what if the essence of man rests in thinking t...</td>\n",
       "      <td>['what', 'if', 'the', 'essence', 'of', 'man', ...</td>\n",
       "      <td>what if the essence of man rest in think the ...</td>\n",
       "    </tr>\n",
       "    <tr>\n",
       "      <th>247800</th>\n",
       "      <td>Off The Beaten Track</td>\n",
       "      <td>Heidegger</td>\n",
       "      <td>phenomenology</td>\n",
       "      <td>Then thinking must poeticize on the enigma of ...</td>\n",
       "      <td>Then thinking must poeticize on the enigma of ...</td>\n",
       "      <td>1950</td>\n",
       "      <td>2001</td>\n",
       "      <td>52</td>\n",
       "      <td>then thinking must poeticize on the enigma of ...</td>\n",
       "      <td>['then', 'thinking', 'must', 'poeticize', 'on'...</td>\n",
       "      <td>then thinking must poeticize on the enigma of...</td>\n",
       "    </tr>\n",
       "    <tr>\n",
       "      <th>247801</th>\n",
       "      <td>Off The Beaten Track</td>\n",
       "      <td>Heidegger</td>\n",
       "      <td>phenomenology</td>\n",
       "      <td>It brings the dawn of thought into proximity t...</td>\n",
       "      <td>It brings the dawn of thought into proximity t...</td>\n",
       "      <td>1950</td>\n",
       "      <td>2001</td>\n",
       "      <td>76</td>\n",
       "      <td>it brings the dawn of thought into proximity t...</td>\n",
       "      <td>['it', 'brings', 'the', 'dawn', 'of', 'thought...</td>\n",
       "      <td>-PRON- bring the dawn of thought into proximi...</td>\n",
       "    </tr>\n",
       "  </tbody>\n",
       "</table>\n",
       "<p>28573 rows × 11 columns</p>\n",
       "</div>"
      ],
      "text/plain": [
       "                                  title         author         school  \\\n",
       "219229  The Phenomenology Of Perception  Merleau-Ponty  phenomenology   \n",
       "219230  The Phenomenology Of Perception  Merleau-Ponty  phenomenology   \n",
       "219231  The Phenomenology Of Perception  Merleau-Ponty  phenomenology   \n",
       "219232  The Phenomenology Of Perception  Merleau-Ponty  phenomenology   \n",
       "219233  The Phenomenology Of Perception  Merleau-Ponty  phenomenology   \n",
       "...                                 ...            ...            ...   \n",
       "247797             Off The Beaten Track      Heidegger  phenomenology   \n",
       "247798             Off The Beaten Track      Heidegger  phenomenology   \n",
       "247799             Off The Beaten Track      Heidegger  phenomenology   \n",
       "247800             Off The Beaten Track      Heidegger  phenomenology   \n",
       "247801             Off The Beaten Track      Heidegger  phenomenology   \n",
       "\n",
       "                                           sentence_spacy  \\\n",
       "219229                             What is phenomenology?   \n",
       "219230  It may seem strange that this question has sti...   \n",
       "219231  The fact remains that it has by no means been ...   \n",
       "219232  Phenomenology is the study of essences; and ac...   \n",
       "219233  But phenomenology is also a philosophy which p...   \n",
       "...                                                   ...   \n",
       "247797  The when being itself reaches its extremity an...   \n",
       "247798  But what if being, in its essence, needs to us...   \n",
       "247799  What if the essence of man rests in thinking t...   \n",
       "247800  Then thinking must poeticize on the enigma of ...   \n",
       "247801  It brings the dawn of thought into proximity t...   \n",
       "\n",
       "                                             sentence_str  \\\n",
       "219229                             What is phenomenology?   \n",
       "219230  It may seem strange that this question has sti...   \n",
       "219231  The fact remains that it has by no means been ...   \n",
       "219232  Phenomenology is the study of essences; and ac...   \n",
       "219233  But phenomenology is also a philosophy which p...   \n",
       "...                                                   ...   \n",
       "247797  The when being itself reaches its extremity an...   \n",
       "247798  But what if being, in its essence, needs to us...   \n",
       "247799  What if the essence of man rests in thinking t...   \n",
       "247800  Then thinking must poeticize on the enigma of ...   \n",
       "247801  It brings the dawn of thought into proximity t...   \n",
       "\n",
       "        original_publication_date  corpus_edition_date  sentence_length  \\\n",
       "219229                       1945                 2002               23   \n",
       "219230                       1945                 2002              109   \n",
       "219231                       1945                 2002               55   \n",
       "219232                       1945                 2002              189   \n",
       "219233                       1945                 2002              212   \n",
       "...                           ...                  ...              ...   \n",
       "247797                       1950                 2001              109   \n",
       "247798                       1950                 2001               74   \n",
       "247799                       1950                 2001               64   \n",
       "247800                       1950                 2001               52   \n",
       "247801                       1950                 2001               76   \n",
       "\n",
       "                                         sentence_lowered  \\\n",
       "219229                             what is phenomenology?   \n",
       "219230  it may seem strange that this question has sti...   \n",
       "219231  the fact remains that it has by no means been ...   \n",
       "219232  phenomenology is the study of essences; and ac...   \n",
       "219233  but phenomenology is also a philosophy which p...   \n",
       "...                                                   ...   \n",
       "247797  the when being itself reaches its extremity an...   \n",
       "247798  but what if being, in its essence, needs to us...   \n",
       "247799  what if the essence of man rests in thinking t...   \n",
       "247800  then thinking must poeticize on the enigma of ...   \n",
       "247801  it brings the dawn of thought into proximity t...   \n",
       "\n",
       "                                            tokenized_txt  \\\n",
       "219229                    ['what', 'is', 'phenomenology']   \n",
       "219230  ['it', 'may', 'seem', 'strange', 'that', 'this...   \n",
       "219231  ['the', 'fact', 'remains', 'that', 'it', 'has'...   \n",
       "219232  ['phenomenology', 'is', 'the', 'study', 'of', ...   \n",
       "219233  ['but', 'phenomenology', 'is', 'also', 'philos...   \n",
       "...                                                   ...   \n",
       "247797  ['the', 'when', 'being', 'itself', 'reaches', ...   \n",
       "247798  ['but', 'what', 'if', 'being', 'in', 'its', 'e...   \n",
       "247799  ['what', 'if', 'the', 'essence', 'of', 'man', ...   \n",
       "247800  ['then', 'thinking', 'must', 'poeticize', 'on'...   \n",
       "247801  ['it', 'brings', 'the', 'dawn', 'of', 'thought...   \n",
       "\n",
       "                                           lemmatized_str  \n",
       "219229                            what be phenomenology ?  \n",
       "219230   -PRON- may seem strange that this question ha...  \n",
       "219231   the fact remain that -PRON- have by no mean b...  \n",
       "219232   phenomenology be the study of essence ; and a...  \n",
       "219233   but phenomenology be also a philosophy which ...  \n",
       "...                                                   ...  \n",
       "247797   the when be -PRON- reach -PRON- extremity and...  \n",
       "247798   but what if be , in -PRON- essence , need to ...  \n",
       "247799   what if the essence of man rest in think the ...  \n",
       "247800   then thinking must poeticize on the enigma of...  \n",
       "247801   -PRON- bring the dawn of thought into proximi...  \n",
       "\n",
       "[28573 rows x 11 columns]"
      ]
     },
     "execution_count": 19,
     "metadata": {},
     "output_type": "execute_result"
    }
   ],
   "source": [
    "phen = df[df['school'] == 'phenomenology']\n",
    "phen"
   ]
  },
  {
   "cell_type": "code",
   "execution_count": 20,
   "metadata": {},
   "outputs": [
    {
     "name": "stdout",
     "output_type": "stream",
     "text": [
      "0.036370559619220956\n",
      "0.05992118433486171\n",
      "0.9037087810170464\n",
      "0.08578028908410007\n"
     ]
    }
   ],
   "source": [
    "p_neg = 0\n",
    "p_pos = 0\n",
    "p_neu = 0\n",
    "p_compound = 0\n",
    "\n",
    "for i in phen['sentence_str']:\n",
    "    pol_score = sia.polarity_scores(i)\n",
    "    p_neg += pol_score['neg']\n",
    "    p_neu += pol_score['neu']\n",
    "    p_pos += pol_score['pos']\n",
    "    p_compound += pol_score['compound']\n",
    "    \n",
    "print(p_neg / phen.shape[0])\n",
    "print(p_pos / phen.shape[0])\n",
    "print(p_neu / phen.shape[0])\n",
    "print(p_compound / phen.shape[0])"
   ]
  },
  {
   "cell_type": "markdown",
   "metadata": {},
   "source": [
    "# Sentence Length"
   ]
  },
  {
   "cell_type": "code",
   "execution_count": 21,
   "metadata": {},
   "outputs": [
    {
     "data": {
      "text/plain": [
       "148.406008238722"
      ]
     },
     "execution_count": 21,
     "metadata": {},
     "output_type": "execute_result"
    }
   ],
   "source": [
    "analytic1['sentence_length'].mean()"
   ]
  },
  {
   "cell_type": "code",
   "execution_count": 22,
   "metadata": {},
   "outputs": [
    {
     "data": {
      "text/plain": [
       "112.59427779732583"
      ]
     },
     "execution_count": 22,
     "metadata": {},
     "output_type": "execute_result"
    }
   ],
   "source": [
    "analytic2['sentence_length'].mean()"
   ]
  },
  {
   "cell_type": "markdown",
   "metadata": {},
   "source": [
    "sentences 25% shorter, question of whether this is outside the normal trend over time?"
   ]
  },
  {
   "cell_type": "code",
   "execution_count": 23,
   "metadata": {},
   "outputs": [
    {
     "data": {
      "text/plain": [
       "[<matplotlib.lines.Line2D at 0x7ff3c94fdb20>]"
      ]
     },
     "execution_count": 23,
     "metadata": {},
     "output_type": "execute_result"
    },
    {
     "data": {
      "image/png": "[encoded data removed]",
      "text/plain": [
       "<Figure size 432x288 with 1 Axes>"
      ]
     },
     "metadata": {
      "needs_background": "light"
     },
     "output_type": "display_data"
    }
   ],
   "source": [
    "import numpy as np\n",
    "\n",
    "post1900 = df[df['original_publication_date'] > 1900]\n",
    "x = np.array(post1900['original_publication_date'])\n",
    "y = np.array(post1900['sentence_length'])\n",
    "\n",
    "a, b = np.polyfit(x, y, 1)\n",
    "\n",
    "plt.scatter(x, y)\n",
    "plt.plot(x, a*x+b)"
   ]
  },
  {
   "cell_type": "code",
   "execution_count": 24,
   "metadata": {},
   "outputs": [
    {
     "name": "stdout",
     "output_type": "stream",
     "text": [
      "-0.29708621710036726\n"
     ]
    }
   ],
   "source": [
    "print(a)"
   ]
  },
  {
   "cell_type": "code",
   "execution_count": 25,
   "metadata": {},
   "outputs": [
    {
     "data": {
      "text/plain": [
       "[<matplotlib.lines.Line2D at 0x7ff38c6ac640>]"
      ]
     },
     "execution_count": 25,
     "metadata": {},
     "output_type": "execute_result"
    },
    {
     "data": {
      "image/png": "[encoded data removed]",
      "text/plain": [
       "<Figure size 432x288 with 1 Axes>"
      ]
     },
     "metadata": {
      "needs_background": "light"
     },
     "output_type": "display_data"
    }
   ],
   "source": [
    "post1900_a = analytic[analytic['original_publication_date'] > 1900]\n",
    "x = np.array(post1900_a['original_publication_date'])\n",
    "y = np.array(post1900_a['sentence_length'])\n",
    "\n",
    "a, b = np.polyfit(x, y, 1)\n",
    "\n",
    "plt.scatter(x, y)\n",
    "plt.plot(x, a*x+b)"
   ]
  },
  {
   "cell_type": "code",
   "execution_count": 26,
   "metadata": {},
   "outputs": [
    {
     "name": "stdout",
     "output_type": "stream",
     "text": [
      "-0.4697024407703367\n"
     ]
    }
   ],
   "source": [
    "print(a)"
   ]
  },
  {
   "cell_type": "markdown",
   "metadata": {},
   "source": [
    "Have to wonder if this new found focus on language influenced their own use of language"
   ]
  },
  {
   "cell_type": "code",
   "execution_count": 27,
   "metadata": {},
   "outputs": [],
   "source": [
    "contains_language = analytic[analytic['tokenized_txt'].str.contains('language')]\n",
    "no_lang = analytic[analytic['tokenized_txt'].str.contains('language') == False]"
   ]
  },
  {
   "cell_type": "code",
   "execution_count": 28,
   "metadata": {},
   "outputs": [
    {
     "data": {
      "text/plain": [
       "149.1333702268954"
      ]
     },
     "execution_count": 28,
     "metadata": {},
     "output_type": "execute_result"
    }
   ],
   "source": [
    "contains_language['sentence_length'].mean()"
   ]
  },
  {
   "cell_type": "code",
   "execution_count": 29,
   "metadata": {},
   "outputs": [
    {
     "data": {
      "text/plain": [
       "118.0105188556082"
      ]
     },
     "execution_count": 29,
     "metadata": {},
     "output_type": "execute_result"
    }
   ],
   "source": [
    "no_lang['sentence_length'].mean()"
   ]
  },
  {
   "cell_type": "code",
   "execution_count": 30,
   "metadata": {},
   "outputs": [
    {
     "data": {
      "text/plain": [
       "author\n",
       "Moore            18\n",
       "Russell          52\n",
       "Popper           54\n",
       "Quine           346\n",
       "Lewis           411\n",
       "Wittgenstein    438\n",
       "Kripke          488\n",
       "Name: sentence_spacy, dtype: int64"
      ]
     },
     "execution_count": 30,
     "metadata": {},
     "output_type": "execute_result"
    }
   ],
   "source": [
    "contains_language.groupby('author').count()['sentence_spacy'].sort_values()"
   ]
  },
  {
   "cell_type": "markdown",
   "metadata": {},
   "source": [
    "# Emotion Analysis"
   ]
  },
  {
   "cell_type": "markdown",
   "metadata": {},
   "source": [
    "Source: https://www.geeksforgeeks.org/emotion-classification-using-nrc-lexicon-in-python/"
   ]
  },
  {
   "cell_type": "code",
   "execution_count": 31,
   "metadata": {},
   "outputs": [
    {
     "name": "stdout",
     "output_type": "stream",
     "text": [
      "Requirement already satisfied: NRCLex==3.0.0 in /Users/kaitlynbrown/opt/anaconda3/lib/python3.8/site-packages (3.0.0)\n",
      "Requirement already satisfied: textblob in /Users/kaitlynbrown/opt/anaconda3/lib/python3.8/site-packages (from NRCLex==3.0.0) (0.17.1)\n",
      "Requirement already satisfied: nltk>=3.1; python_version >= \"3\" in /Users/kaitlynbrown/opt/anaconda3/lib/python3.8/site-packages (from textblob->NRCLex==3.0.0) (3.5)\n",
      "Requirement already satisfied: joblib in /Users/kaitlynbrown/opt/anaconda3/lib/python3.8/site-packages (from nltk>=3.1; python_version >= \"3\"->textblob->NRCLex==3.0.0) (0.17.0)\n",
      "Requirement already satisfied: click in /Users/kaitlynbrown/opt/anaconda3/lib/python3.8/site-packages (from nltk>=3.1; python_version >= \"3\"->textblob->NRCLex==3.0.0) (7.1.2)\n",
      "Requirement already satisfied: tqdm in /Users/kaitlynbrown/opt/anaconda3/lib/python3.8/site-packages (from nltk>=3.1; python_version >= \"3\"->textblob->NRCLex==3.0.0) (4.50.2)\n",
      "Requirement already satisfied: regex in /Users/kaitlynbrown/opt/anaconda3/lib/python3.8/site-packages (from nltk>=3.1; python_version >= \"3\"->textblob->NRCLex==3.0.0) (2020.10.15)\n",
      "Note: you may need to restart the kernel to use updated packages.\n"
     ]
    }
   ],
   "source": [
    "pip install NRCLex==3.0.0"
   ]
  },
  {
   "cell_type": "code",
   "execution_count": 32,
   "metadata": {},
   "outputs": [
    {
     "name": "stderr",
     "output_type": "stream",
     "text": [
      "<ipython-input-32-bf4d989a18c0>:7: SettingWithCopyWarning: \n",
      "A value is trying to be set on a copy of a slice from a DataFrame.\n",
      "Try using .loc[row_indexer,col_indexer] = value instead\n",
      "\n",
      "See the caveats in the documentation: https://pandas.pydata.org/pandas-docs/stable/user_guide/indexing.html#returning-a-view-versus-a-copy\n",
      "  analytic1['top_emotions'] = analytic1.apply(lambda row: get_top_emot(row),axis = 1)\n",
      "<ipython-input-32-bf4d989a18c0>:8: SettingWithCopyWarning: \n",
      "A value is trying to be set on a copy of a slice from a DataFrame.\n",
      "Try using .loc[row_indexer,col_indexer] = value instead\n",
      "\n",
      "See the caveats in the documentation: https://pandas.pydata.org/pandas-docs/stable/user_guide/indexing.html#returning-a-view-versus-a-copy\n",
      "  analytic2['top_emotions'] = analytic2.apply(lambda row: get_top_emot(row),axis = 1)\n",
      "<ipython-input-32-bf4d989a18c0>:9: SettingWithCopyWarning: \n",
      "A value is trying to be set on a copy of a slice from a DataFrame.\n",
      "Try using .loc[row_indexer,col_indexer] = value instead\n",
      "\n",
      "See the caveats in the documentation: https://pandas.pydata.org/pandas-docs/stable/user_guide/indexing.html#returning-a-view-versus-a-copy\n",
      "  analytic['top_emotions'] = analytic.apply(lambda row: get_top_emot(row),axis = 1)\n"
     ]
    }
   ],
   "source": [
    "from nrclex import NRCLex\n",
    " \n",
    "def get_top_emot(row):\n",
    "    sent = NRCLex(row['sentence_str'])\n",
    "    return sent.top_emotions\n",
    "    \n",
    "analytic1['top_emotions'] = analytic1.apply(lambda row: get_top_emot(row),axis = 1)\n",
    "analytic2['top_emotions'] = analytic2.apply(lambda row: get_top_emot(row),axis = 1)\n",
    "analytic['top_emotions'] = analytic.apply(lambda row: get_top_emot(row),axis = 1)"
   ]
  },
  {
   "cell_type": "code",
   "execution_count": 33,
   "metadata": {},
   "outputs": [
    {
     "data": {
      "text/plain": [
       "{'anger': 0.018628708141753846,\n",
       " 'anticip': 0.0,\n",
       " 'anticipation': 0.04369733866864686,\n",
       " 'disgust': 0.0033652660462194684,\n",
       " 'fear': 0.023786771458377407,\n",
       " 'joy': 0.019147317709004043,\n",
       " 'negative': 0.07889518735230652,\n",
       " 'positive': 0.2907461355040825,\n",
       " 'sadness': 0.022024019042973207,\n",
       " 'surprise': 0.010449615678821437,\n",
       " 'trust': 0.11899605846910764}"
      ]
     },
     "execution_count": 33,
     "metadata": {},
     "output_type": "execute_result"
    }
   ],
   "source": [
    "a1_emotions = analytic1['top_emotions'].sum()\n",
    "\n",
    "emotions = {}\n",
    "for emotion, value in a1_emotions:\n",
    "    if emotion not in emotions:\n",
    "        emotions[emotion] = value\n",
    "    else:\n",
    "        emotions[emotion] += value\n",
    "        \n",
    "for key,value in emotions.items():\n",
    "    emotions[key] = value / analytic1.shape[0]\n",
    "\n",
    "dict(sorted(emotions.items()))"
   ]
  },
  {
   "cell_type": "code",
   "execution_count": 34,
   "metadata": {},
   "outputs": [
    {
     "data": {
      "text/plain": [
       "{'anger': 0.018467839518327422,\n",
       " 'anticip': 0.0,\n",
       " 'anticipation': 0.05843324864705485,\n",
       " 'disgust': 0.006901463198406147,\n",
       " 'fear': 0.030197142169010874,\n",
       " 'joy': 0.0148471608494132,\n",
       " 'negative': 0.08636315475976543,\n",
       " 'positive': 0.21479059166963646,\n",
       " 'sadness': 0.027644215765085828,\n",
       " 'surprise': 0.014995464073286146,\n",
       " 'trust': 0.11383864967298771}"
      ]
     },
     "execution_count": 34,
     "metadata": {},
     "output_type": "execute_result"
    }
   ],
   "source": [
    "a2_emotions = analytic2['top_emotions'].sum()\n",
    "\n",
    "emotions = {}\n",
    "for emotion, value in a2_emotions:\n",
    "    if emotion not in emotions:\n",
    "        emotions[emotion] = value\n",
    "    else:\n",
    "        emotions[emotion] += value\n",
    "        \n",
    "for key,value in emotions.items():\n",
    "    emotions[key] = value / analytic2.shape[0]\n",
    "\n",
    "dict(sorted(emotions.items()))"
   ]
  },
  {
   "cell_type": "markdown",
   "metadata": {},
   "source": [
    "The analytic seems to stay remarkably consistent through its two prominent eras. Now to analyze, how it differs from what followed it continentalism."
   ]
  },
  {
   "cell_type": "markdown",
   "metadata": {},
   "source": [
    "# Differences From Continental"
   ]
  },
  {
   "cell_type": "markdown",
   "metadata": {},
   "source": [
    "Top Words"
   ]
  },
  {
   "cell_type": "code",
   "execution_count": 35,
   "metadata": {},
   "outputs": [],
   "source": [
    "con = df[df['school'] == 'continental']"
   ]
  },
  {
   "cell_type": "code",
   "execution_count": 36,
   "metadata": {},
   "outputs": [
    {
     "data": {
      "text/html": [
       "<div>\n",
       "<style scoped>\n",
       "    .dataframe tbody tr th:only-of-type {\n",
       "        vertical-align: middle;\n",
       "    }\n",
       "\n",
       "    .dataframe tbody tr th {\n",
       "        vertical-align: top;\n",
       "    }\n",
       "\n",
       "    .dataframe thead th {\n",
       "        text-align: right;\n",
       "    }\n",
       "</style>\n",
       "<table border=\"1\" class=\"dataframe\">\n",
       "  <thead>\n",
       "    <tr style=\"text-align: right;\">\n",
       "      <th></th>\n",
       "      <th>title</th>\n",
       "      <th>author</th>\n",
       "      <th>school</th>\n",
       "      <th>sentence_spacy</th>\n",
       "      <th>sentence_str</th>\n",
       "      <th>original_publication_date</th>\n",
       "      <th>corpus_edition_date</th>\n",
       "      <th>sentence_length</th>\n",
       "      <th>sentence_lowered</th>\n",
       "      <th>tokenized_txt</th>\n",
       "      <th>lemmatized_str</th>\n",
       "    </tr>\n",
       "  </thead>\n",
       "  <tbody>\n",
       "    <tr>\n",
       "      <th>185450</th>\n",
       "      <td>The Birth Of The Clinic</td>\n",
       "      <td>Foucault</td>\n",
       "      <td>continental</td>\n",
       "      <td>For us, the human body defines, by natural ri...</td>\n",
       "      <td>For us, the human body defines, by natural ri...</td>\n",
       "      <td>1963</td>\n",
       "      <td>2003</td>\n",
       "      <td>237</td>\n",
       "      <td>for us, the human body defines, by natural ri...</td>\n",
       "      <td>['for', 'us', 'the', 'human', 'body', 'defines...</td>\n",
       "      <td>for -PRON- , the human body define , by nat...</td>\n",
       "    </tr>\n",
       "    <tr>\n",
       "      <th>185451</th>\n",
       "      <td>The Birth Of The Clinic</td>\n",
       "      <td>Foucault</td>\n",
       "      <td>continental</td>\n",
       "      <td>But this order of the solid, visible body is o...</td>\n",
       "      <td>But this order of the solid, visible body is o...</td>\n",
       "      <td>1963</td>\n",
       "      <td>2003</td>\n",
       "      <td>153</td>\n",
       "      <td>but this order of the solid, visible body is o...</td>\n",
       "      <td>['but', 'this', 'order', 'of', 'the', 'solid',...</td>\n",
       "      <td>but this order of the solid , visible body be...</td>\n",
       "    </tr>\n",
       "    <tr>\n",
       "      <th>185452</th>\n",
       "      <td>The Birth Of The Clinic</td>\n",
       "      <td>Foucault</td>\n",
       "      <td>continental</td>\n",
       "      <td>There have been, and will be, other distributi...</td>\n",
       "      <td>There have been, and will be, other distributi...</td>\n",
       "      <td>1963</td>\n",
       "      <td>2003</td>\n",
       "      <td>61</td>\n",
       "      <td>there have been, and will be, other distributi...</td>\n",
       "      <td>['there', 'have', 'been', 'and', 'will', 'be',...</td>\n",
       "      <td>there have be , and will be , other distribut...</td>\n",
       "    </tr>\n",
       "    <tr>\n",
       "      <th>185453</th>\n",
       "      <td>The Birth Of The Clinic</td>\n",
       "      <td>Foucault</td>\n",
       "      <td>continental</td>\n",
       "      <td>When will we be able to define the structures ...</td>\n",
       "      <td>When will we be able to define the structures ...</td>\n",
       "      <td>1963</td>\n",
       "      <td>2003</td>\n",
       "      <td>129</td>\n",
       "      <td>when will we be able to define the structures ...</td>\n",
       "      <td>['when', 'will', 'we', 'be', 'able', 'to', 'de...</td>\n",
       "      <td>when will -PRON- be able to define the struct...</td>\n",
       "    </tr>\n",
       "    <tr>\n",
       "      <th>185454</th>\n",
       "      <td>The Birth Of The Clinic</td>\n",
       "      <td>Foucault</td>\n",
       "      <td>continental</td>\n",
       "      <td>Has anyone ever drawn up the specific geometry...</td>\n",
       "      <td>Has anyone ever drawn up the specific geometry...</td>\n",
       "      <td>1963</td>\n",
       "      <td>2003</td>\n",
       "      <td>109</td>\n",
       "      <td>has anyone ever drawn up the specific geometry...</td>\n",
       "      <td>['has', 'anyone', 'ever', 'drawn', 'up', 'the'...</td>\n",
       "      <td>have anyone ever draw up the specific geometr...</td>\n",
       "    </tr>\n",
       "    <tr>\n",
       "      <th>...</th>\n",
       "      <td>...</td>\n",
       "      <td>...</td>\n",
       "      <td>...</td>\n",
       "      <td>...</td>\n",
       "      <td>...</td>\n",
       "      <td>...</td>\n",
       "      <td>...</td>\n",
       "      <td>...</td>\n",
       "      <td>...</td>\n",
       "      <td>...</td>\n",
       "      <td>...</td>\n",
       "    </tr>\n",
       "    <tr>\n",
       "      <th>219224</th>\n",
       "      <td>Anti-Oedipus</td>\n",
       "      <td>Deleuze</td>\n",
       "      <td>continental</td>\n",
       "      <td>We'll never go too far with the deterritoriali...</td>\n",
       "      <td>We'll never go too far with the deterritoriali...</td>\n",
       "      <td>1972</td>\n",
       "      <td>1997</td>\n",
       "      <td>76</td>\n",
       "      <td>we'll never go too far with the deterritoriali...</td>\n",
       "      <td>['we', 'll', 'never', 'go', 'too', 'far', 'wit...</td>\n",
       "      <td>-PRON- will never go too far with the deterri...</td>\n",
       "    </tr>\n",
       "    <tr>\n",
       "      <th>219225</th>\n",
       "      <td>Anti-Oedipus</td>\n",
       "      <td>Deleuze</td>\n",
       "      <td>continental</td>\n",
       "      <td>In truth, the earth will one day become a plac...</td>\n",
       "      <td>In truth, the earth will one day become a plac...</td>\n",
       "      <td>1972</td>\n",
       "      <td>1997</td>\n",
       "      <td>58</td>\n",
       "      <td>in truth, the earth will one day become a plac...</td>\n",
       "      <td>['in', 'truth', 'the', 'earth', 'will', 'one',...</td>\n",
       "      <td>in truth , the earth will one day become a pl...</td>\n",
       "    </tr>\n",
       "    <tr>\n",
       "      <th>219226</th>\n",
       "      <td>Anti-Oedipus</td>\n",
       "      <td>Deleuze</td>\n",
       "      <td>continental</td>\n",
       "      <td>is not to be found in the neurotic or perverse...</td>\n",
       "      <td>is not to be found in the neurotic or perverse...</td>\n",
       "      <td>1972</td>\n",
       "      <td>1997</td>\n",
       "      <td>111</td>\n",
       "      <td>is not to be found in the neurotic or perverse...</td>\n",
       "      <td>['is', 'not', 'to', 'be', 'found', 'in', 'the'...</td>\n",
       "      <td>be not to be find in the neurotic or perverse...</td>\n",
       "    </tr>\n",
       "    <tr>\n",
       "      <th>219227</th>\n",
       "      <td>Anti-Oedipus</td>\n",
       "      <td>Deleuze</td>\n",
       "      <td>continental</td>\n",
       "      <td>; it is no more behind than ahead, it coincide...</td>\n",
       "      <td>; it is no more behind than ahead, it coincide...</td>\n",
       "      <td>1972</td>\n",
       "      <td>1997</td>\n",
       "      <td>199</td>\n",
       "      <td>; it is no more behind than ahead, it coincide...</td>\n",
       "      <td>['it', 'is', 'no', 'more', 'behind', 'than', '...</td>\n",
       "      <td>; -PRON- be no more behind than ahead , -PRON...</td>\n",
       "    </tr>\n",
       "    <tr>\n",
       "      <th>219228</th>\n",
       "      <td>Anti-Oedipus</td>\n",
       "      <td>Deleuze</td>\n",
       "      <td>continental</td>\n",
       "      <td>It therefore remains for us to see how, effect...</td>\n",
       "      <td>It therefore remains for us to see how, effect...</td>\n",
       "      <td>1972</td>\n",
       "      <td>1997</td>\n",
       "      <td>115</td>\n",
       "      <td>it therefore remains for us to see how, effect...</td>\n",
       "      <td>['it', 'therefore', 'remains', 'for', 'us', 't...</td>\n",
       "      <td>-PRON- therefore remain for -PRON- to see how...</td>\n",
       "    </tr>\n",
       "  </tbody>\n",
       "</table>\n",
       "<p>33779 rows × 11 columns</p>\n",
       "</div>"
      ],
      "text/plain": [
       "                          title    author       school  \\\n",
       "185450  The Birth Of The Clinic  Foucault  continental   \n",
       "185451  The Birth Of The Clinic  Foucault  continental   \n",
       "185452  The Birth Of The Clinic  Foucault  continental   \n",
       "185453  The Birth Of The Clinic  Foucault  continental   \n",
       "185454  The Birth Of The Clinic  Foucault  continental   \n",
       "...                         ...       ...          ...   \n",
       "219224             Anti-Oedipus   Deleuze  continental   \n",
       "219225             Anti-Oedipus   Deleuze  continental   \n",
       "219226             Anti-Oedipus   Deleuze  continental   \n",
       "219227             Anti-Oedipus   Deleuze  continental   \n",
       "219228             Anti-Oedipus   Deleuze  continental   \n",
       "\n",
       "                                           sentence_spacy  \\\n",
       "185450   For us, the human body defines, by natural ri...   \n",
       "185451  But this order of the solid, visible body is o...   \n",
       "185452  There have been, and will be, other distributi...   \n",
       "185453  When will we be able to define the structures ...   \n",
       "185454  Has anyone ever drawn up the specific geometry...   \n",
       "...                                                   ...   \n",
       "219224  We'll never go too far with the deterritoriali...   \n",
       "219225  In truth, the earth will one day become a plac...   \n",
       "219226  is not to be found in the neurotic or perverse...   \n",
       "219227  ; it is no more behind than ahead, it coincide...   \n",
       "219228  It therefore remains for us to see how, effect...   \n",
       "\n",
       "                                             sentence_str  \\\n",
       "185450   For us, the human body defines, by natural ri...   \n",
       "185451  But this order of the solid, visible body is o...   \n",
       "185452  There have been, and will be, other distributi...   \n",
       "185453  When will we be able to define the structures ...   \n",
       "185454  Has anyone ever drawn up the specific geometry...   \n",
       "...                                                   ...   \n",
       "219224  We'll never go too far with the deterritoriali...   \n",
       "219225  In truth, the earth will one day become a plac...   \n",
       "219226  is not to be found in the neurotic or perverse...   \n",
       "219227  ; it is no more behind than ahead, it coincide...   \n",
       "219228  It therefore remains for us to see how, effect...   \n",
       "\n",
       "        original_publication_date  corpus_edition_date  sentence_length  \\\n",
       "185450                       1963                 2003              237   \n",
       "185451                       1963                 2003              153   \n",
       "185452                       1963                 2003               61   \n",
       "185453                       1963                 2003              129   \n",
       "185454                       1963                 2003              109   \n",
       "...                           ...                  ...              ...   \n",
       "219224                       1972                 1997               76   \n",
       "219225                       1972                 1997               58   \n",
       "219226                       1972                 1997              111   \n",
       "219227                       1972                 1997              199   \n",
       "219228                       1972                 1997              115   \n",
       "\n",
       "                                         sentence_lowered  \\\n",
       "185450   for us, the human body defines, by natural ri...   \n",
       "185451  but this order of the solid, visible body is o...   \n",
       "185452  there have been, and will be, other distributi...   \n",
       "185453  when will we be able to define the structures ...   \n",
       "185454  has anyone ever drawn up the specific geometry...   \n",
       "...                                                   ...   \n",
       "219224  we'll never go too far with the deterritoriali...   \n",
       "219225  in truth, the earth will one day become a plac...   \n",
       "219226  is not to be found in the neurotic or perverse...   \n",
       "219227  ; it is no more behind than ahead, it coincide...   \n",
       "219228  it therefore remains for us to see how, effect...   \n",
       "\n",
       "                                            tokenized_txt  \\\n",
       "185450  ['for', 'us', 'the', 'human', 'body', 'defines...   \n",
       "185451  ['but', 'this', 'order', 'of', 'the', 'solid',...   \n",
       "185452  ['there', 'have', 'been', 'and', 'will', 'be',...   \n",
       "185453  ['when', 'will', 'we', 'be', 'able', 'to', 'de...   \n",
       "185454  ['has', 'anyone', 'ever', 'drawn', 'up', 'the'...   \n",
       "...                                                   ...   \n",
       "219224  ['we', 'll', 'never', 'go', 'too', 'far', 'wit...   \n",
       "219225  ['in', 'truth', 'the', 'earth', 'will', 'one',...   \n",
       "219226  ['is', 'not', 'to', 'be', 'found', 'in', 'the'...   \n",
       "219227  ['it', 'is', 'no', 'more', 'behind', 'than', '...   \n",
       "219228  ['it', 'therefore', 'remains', 'for', 'us', 't...   \n",
       "\n",
       "                                           lemmatized_str  \n",
       "185450     for -PRON- , the human body define , by nat...  \n",
       "185451   but this order of the solid , visible body be...  \n",
       "185452   there have be , and will be , other distribut...  \n",
       "185453   when will -PRON- be able to define the struct...  \n",
       "185454   have anyone ever draw up the specific geometr...  \n",
       "...                                                   ...  \n",
       "219224   -PRON- will never go too far with the deterri...  \n",
       "219225   in truth , the earth will one day become a pl...  \n",
       "219226   be not to be find in the neurotic or perverse...  \n",
       "219227   ; -PRON- be no more behind than ahead , -PRON...  \n",
       "219228   -PRON- therefore remain for -PRON- to see how...  \n",
       "\n",
       "[33779 rows x 11 columns]"
      ]
     },
     "execution_count": 36,
     "metadata": {},
     "output_type": "execute_result"
    }
   ],
   "source": [
    "con"
   ]
  },
  {
   "cell_type": "code",
   "execution_count": 37,
   "metadata": {},
   "outputs": [
    {
     "name": "stderr",
     "output_type": "stream",
     "text": [
      "<ipython-input-37-19a18c7eb653>:1: SettingWithCopyWarning: \n",
      "A value is trying to be set on a copy of a slice from a DataFrame.\n",
      "Try using .loc[row_indexer,col_indexer] = value instead\n",
      "\n",
      "See the caveats in the documentation: https://pandas.pydata.org/pandas-docs/stable/user_guide/indexing.html#returning-a-view-versus-a-copy\n",
      "  con['filtered_txt'] = con['tokenized_txt'].apply(lambda x:[item for item in x.replace(\"'\",\"\").replace('[',\"\").replace(']',\"\").replace(\" \",\"\").split(',') if item not in stopwords])\n"
     ]
    },
    {
     "data": {
      "text/plain": [
       "[('one', 4144),\n",
       " ('madness', 2283),\n",
       " ('would', 1965),\n",
       " ('form', 1913),\n",
       " ('language', 1630),\n",
       " ('time', 1624),\n",
       " ('must', 1531),\n",
       " ('order', 1528),\n",
       " ('within', 1501),\n",
       " ('first', 1466),\n",
       " ('difference', 1449),\n",
       " ('two', 1434),\n",
       " ('nature', 1414),\n",
       " ('even', 1400),\n",
       " ('without', 1398),\n",
       " ('man', 1367),\n",
       " ('thought', 1362),\n",
       " ('also', 1130),\n",
       " ('representation', 1101),\n",
       " ('possible', 1096)]"
      ]
     },
     "execution_count": 37,
     "metadata": {},
     "output_type": "execute_result"
    }
   ],
   "source": [
    "con['filtered_txt'] = con['tokenized_txt'].apply(lambda x:[item for item in x.replace(\"'\",\"\").replace('[',\"\").replace(']',\"\").replace(\" \",\"\").split(',') if item not in stopwords])\n",
    "con_words = con['filtered_txt'].sum()\n",
    "\n",
    "con_fdist = FreqDist(con_words)\n",
    "con_fdist.most_common(20)"
   ]
  },
  {
   "cell_type": "markdown",
   "metadata": {},
   "source": [
    "Sentiment Analysis"
   ]
  },
  {
   "cell_type": "code",
   "execution_count": 38,
   "metadata": {},
   "outputs": [],
   "source": [
    "con_neg = 0\n",
    "con_pos = 0\n",
    "con_neu = 0\n",
    "con_compound = 0\n",
    "\n",
    "for i in con['sentence_str']:\n",
    "    pol_score = sia.polarity_scores(i)\n",
    "    con_neg += pol_score['neg']\n",
    "    con_neu += pol_score['neu']\n",
    "    con_pos += pol_score['pos']\n",
    "    con_compound += pol_score['compound']"
   ]
  },
  {
   "cell_type": "code",
   "execution_count": 39,
   "metadata": {},
   "outputs": [
    {
     "name": "stdout",
     "output_type": "stream",
     "text": [
      "0.06766103200213136\n",
      "0.06454877290624338\n",
      "0.8677896326119748\n",
      "-0.0011236596702091572\n"
     ]
    }
   ],
   "source": [
    "print(con_neg/con.shape[0])\n",
    "print(con_pos/con.shape[0])\n",
    "print(con_neu/con.shape[0])\n",
    "print(con_compound/con.shape[0])"
   ]
  },
  {
   "cell_type": "markdown",
   "metadata": {},
   "source": [
    "Sentence Length"
   ]
  },
  {
   "cell_type": "code",
   "execution_count": 40,
   "metadata": {},
   "outputs": [
    {
     "data": {
      "text/plain": [
       "171.79206015571805"
      ]
     },
     "execution_count": 40,
     "metadata": {},
     "output_type": "execute_result"
    }
   ],
   "source": [
    "con['sentence_length'].mean()"
   ]
  },
  {
   "cell_type": "code",
   "execution_count": 41,
   "metadata": {},
   "outputs": [
    {
     "data": {
      "text/plain": [
       "119.02520523229589"
      ]
     },
     "execution_count": 41,
     "metadata": {},
     "output_type": "execute_result"
    }
   ],
   "source": [
    "analytic['sentence_length'].mean()"
   ]
  },
  {
   "cell_type": "markdown",
   "metadata": {},
   "source": [
    "Emotion Analysis"
   ]
  },
  {
   "cell_type": "code",
   "execution_count": 42,
   "metadata": {},
   "outputs": [
    {
     "name": "stderr",
     "output_type": "stream",
     "text": [
      "<ipython-input-42-8a762500cc99>:1: SettingWithCopyWarning: \n",
      "A value is trying to be set on a copy of a slice from a DataFrame.\n",
      "Try using .loc[row_indexer,col_indexer] = value instead\n",
      "\n",
      "See the caveats in the documentation: https://pandas.pydata.org/pandas-docs/stable/user_guide/indexing.html#returning-a-view-versus-a-copy\n",
      "  con['top_emotions'] = con.apply(lambda row: get_top_emot(row),axis = 1)\n"
     ]
    },
    {
     "data": {
      "text/plain": [
       "{'anger': 0.021530497331464005,\n",
       " 'anticip': 0.0,\n",
       " 'anticipation': 0.046089671193361395,\n",
       " 'disgust': 0.008643527921757068,\n",
       " 'fear': 0.03777299342883577,\n",
       " 'joy': 0.010820640278010975,\n",
       " 'negative': 0.1090083790682038,\n",
       " 'positive': 0.2133921093164641,\n",
       " 'sadness': 0.02594691610246742,\n",
       " 'surprise': 0.009436166566146839,\n",
       " 'trust': 0.09065049675999202}"
      ]
     },
     "execution_count": 42,
     "metadata": {},
     "output_type": "execute_result"
    }
   ],
   "source": [
    "con['top_emotions'] = con.apply(lambda row: get_top_emot(row),axis = 1)\n",
    "\n",
    "con_emotions = con['top_emotions'].sum()\n",
    "\n",
    "emotions = {}\n",
    "for emotion, value in con_emotions:\n",
    "    if emotion not in emotions:\n",
    "        emotions[emotion] = value\n",
    "    else:\n",
    "        emotions[emotion] += value\n",
    "        \n",
    "for key,value in emotions.items():\n",
    "    emotions[key] = value / con.shape[0]\n",
    "\n",
    "dict(sorted(emotions.items()))"
   ]
  }
 ],
 "metadata": {
  "kernelspec": {
   "display_name": "Python 3",
   "language": "python",
   "name": "python3"
  },
  "language_info": {
   "codemirror_mode": {
    "name": "ipython",
    "version": 3
   },
   "file_extension": ".py",
   "mimetype": "text/x-python",
   "name": "python",
   "nbconvert_exporter": "python",
   "pygments_lexer": "ipython3",
   "version": "3.8.5"
  }
 },
 "nbformat": 4,
 "nbformat_minor": 4
}
